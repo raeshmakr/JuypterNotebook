{
 "cells": [
  {
   "cell_type": "markdown",
   "id": "2fb4498f-13b6-4842-9be0-1fe1948e7c64",
   "metadata": {},
   "source": [
    "# Data Science Tools and Ecosystem"
   ]
  },
  {
   "cell_type": "markdown",
   "id": "b2bddb3f-5a54-4b49-9ea2-c6ad5f0d223b",
   "metadata": {},
   "source": [
    "In this notebook, Data Science Tools and Ecosystem are summarized."
   ]
  },
  {
   "cell_type": "markdown",
   "id": "eb49aa32-e942-4666-a713-7dbafb5d129d",
   "metadata": {},
   "source": [
    "## Overview\n",
    "\n",
    "Some of the popular languages that Data Scientists use are:\n",
    "\n",
    "1. Python\n",
    "2. R\n",
    "3. SQL\n"
   ]
  },
  {
   "cell_type": "markdown",
   "id": "f4ad13cf-1193-4953-ae13-a9a2ffdb0013",
   "metadata": {},
   "source": [
    "## Overview\r\n",
    "\r\n",
    "Some of the commonly used libraries used by Data Scientists include:\r\n",
    "\r\n",
    "1. Pandas\r\n",
    "2. NumPy\r\n",
    "3. Scikit-learn\r\n"
   ]
  },
  {
   "cell_type": "markdown",
   "id": "ba7bf021-6417-4cf6-9025-b37b19461003",
   "metadata": {},
   "source": [
    "| Data Science Tools     |\n",
    "|------------------------|\n",
    "| Jupyter Notebooks      |\n",
    "| RStudio                |\n",
    "| VS Code with Python    |\n"
   ]
  },
  {
   "cell_type": "markdown",
   "id": "d1b47cff-27f2-42a5-9173-eb1966aedce6",
   "metadata": {},
   "source": [
    "### Examples of Arithmetic Expressions in Python\n",
    "\n",
    "Below are a few examples of evaluating arithmetic expressions in Python.\n"
   ]
  },
  {
   "cell_type": "code",
   "execution_count": 5,
   "id": "cd34eca7-f2f7-40f1-900e-e3a50b3a8657",
   "metadata": {},
   "outputs": [
    {
     "data": {
      "text/plain": [
       "17"
      ]
     },
     "execution_count": 5,
     "metadata": {},
     "output_type": "execute_result"
    }
   ],
   "source": [
    " # This is a simple arithmetic expression to multiply then add integers.\r\n",
    "result = (3 * 4) + 5\r\n",
    "result"
   ]
  },
  {
   "cell_type": "code",
   "execution_count": 6,
   "id": "5885436a-7aed-4307-9719-65d772e22024",
   "metadata": {},
   "outputs": [
    {
     "data": {
      "text/plain": [
       "3.3333333333333335"
      ]
     },
     "execution_count": 6,
     "metadata": {},
     "output_type": "execute_result"
    }
   ],
   "source": [
    "# This will convert 200 minutes to hours by dividing by 60.\n",
    "minutes = 200\n",
    "hours = minutes / 60\n",
    "hours"
   ]
  },
  {
   "cell_type": "markdown",
   "id": "3deafe70-3d89-4b4d-a6b3-0c5300a91bba",
   "metadata": {},
   "source": [
    "**Objectives:**\n",
    "\n",
    "- List popular languages for Data Science.\n",
    "- Introduce commonly used libraries in data science.\n",
    "- Showcase a table of Data Science tools.\n",
    "- Demonstrate examples of evaluating arithmetic expressions in Python.\n",
    "- Perform a conversion from minutes to hours using Python.\n"
   ]
  },
  {
   "cell_type": "markdown",
   "id": "a4d33e5a-fd1b-46da-8fac-1be29de4bcf2",
   "metadata": {},
   "source": [
    "## Author\n",
    "\n",
    "Your Name\n"
   ]
  },
  {
   "cell_type": "code",
   "execution_count": null,
   "id": "56d2b6e2-4f42-4a0e-a875-2fef44162158",
   "metadata": {},
   "outputs": [],
   "source": []
  }
 ],
 "metadata": {
  "kernelspec": {
   "display_name": "Python 3 (ipykernel)",
   "language": "python",
   "name": "python3"
  },
  "language_info": {
   "codemirror_mode": {
    "name": "ipython",
    "version": 3
   },
   "file_extension": ".py",
   "mimetype": "text/x-python",
   "name": "python",
   "nbconvert_exporter": "python",
   "pygments_lexer": "ipython3",
   "version": "3.11.7"
  }
 },
 "nbformat": 4,
 "nbformat_minor": 5
}
